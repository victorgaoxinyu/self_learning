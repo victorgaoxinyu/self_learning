{
 "cells": [
  {
   "cell_type": "code",
   "execution_count": 2,
   "metadata": {},
   "outputs": [
    {
     "name": "stdout",
     "output_type": "stream",
     "text": [
      "Function result is 2 and type is <class 'int'>\n",
      "Function result is <coroutine object coroutine_add_one at 0x108bf6840> and type is <class 'coroutine'>\n"
     ]
    },
    {
     "name": "stderr",
     "output_type": "stream",
     "text": [
      "/var/folders/jx/667lcrjn7x7fy27vl3k17_1h0000gn/T/ipykernel_46148/3693400826.py:8: RuntimeWarning: coroutine 'coroutine_add_one' was never awaited\n",
      "  coroutine_res = coroutine_add_one(1)\n",
      "RuntimeWarning: Enable tracemalloc to get the object allocation traceback\n"
     ]
    }
   ],
   "source": [
    "async def coroutine_add_one(number):\n",
    "    return number + 1\n",
    "\n",
    "def add_one(number):\n",
    "    return number + 1\n",
    "\n",
    "func_res = add_one(1)\n",
    "coroutine_res = coroutine_add_one(1)\n",
    "\n",
    "print(f'Function result is {func_res} and type is {type(func_res)}')\n",
    "print(f'Function result is {coroutine_res} and type is {type(coroutine_res)}')\n"
   ]
  },
  {
   "cell_type": "code",
   "execution_count": null,
   "metadata": {},
   "outputs": [],
   "source": []
  }
 ],
 "metadata": {
  "kernelspec": {
   "display_name": "Python 3",
   "language": "python",
   "name": "python3"
  },
  "language_info": {
   "codemirror_mode": {
    "name": "ipython",
    "version": 3
   },
   "file_extension": ".py",
   "mimetype": "text/x-python",
   "name": "python",
   "nbconvert_exporter": "python",
   "pygments_lexer": "ipython3",
   "version": "3.9.6"
  }
 },
 "nbformat": 4,
 "nbformat_minor": 2
}
