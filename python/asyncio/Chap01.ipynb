{
 "cells": [
  {
   "cell_type": "code",
   "execution_count": 4,
   "metadata": {},
   "outputs": [
    {
     "name": "stdout",
     "output_type": "stream",
     "text": [
      "Python process running with process id: 48510\n",
      "Python is currently running 7 thread(s)\n",
      "The current thread is MainThread\n"
     ]
    }
   ],
   "source": [
    "### Process and Thread\n",
    "\n",
    "import os\n",
    "import threading\n",
    "\n",
    "print(f'Python process running with process id: {os.getpid()}')\n",
    "total_threads = threading.active_count()\n",
    "thread_name = threading.current_thread().name\n",
    "\n",
    "print(f'Python is currently running {total_threads} thread(s)')\n",
    "print(f'The current thread is {thread_name}')"
   ]
  },
  {
   "cell_type": "code",
   "execution_count": null,
   "metadata": {},
   "outputs": [
    {
     "name": "stdout",
     "output_type": "stream",
     "text": [
      "Hellor from thread <Thread(Thread-82, started 6289387520)> !\n",
      "Python is currently running 8 thread(s)\n",
      "The current thread is MainThread\n",
      "\n"
     ]
    }
   ],
   "source": [
    "### Create multi-thread python app\n",
    "import threading\n",
    "\n",
    "def hello_from_thread():\n",
    "    print(f'Hello from thread {threading.current_thread()} !\\n')\n",
    "\n",
    "hello_thread = threading.Thread(target=hello_from_thread)\n",
    "hello_thread.start()\n",
    "\n",
    "total_threads = threading.active_count()\n",
    "thread_name = threading.current_thread().name\n",
    "\n",
    "print(f'Python is currently running {total_threads} thread(s)')\n",
    "print(f'The current thread is {thread_name}')\n",
    "\n",
    "hello_thread.join()"
   ]
  },
  {
   "cell_type": "code",
   "execution_count": 16,
   "metadata": {},
   "outputs": [
    {
     "name": "stdout",
     "output_type": "stream",
     "text": [
      "Hello from parent process 48510\n"
     ]
    },
    {
     "name": "stderr",
     "output_type": "stream",
     "text": [
      "Traceback (most recent call last):\n",
      "  File \"<string>\", line 1, in <module>\n",
      "  File \"/Library/Developer/CommandLineTools/Library/Frameworks/Python3.framework/Versions/3.9/lib/python3.9/multiprocessing/spawn.py\", line 116, in spawn_main\n",
      "    exitcode = _main(fd, parent_sentinel)\n",
      "  File \"/Library/Developer/CommandLineTools/Library/Frameworks/Python3.framework/Versions/3.9/lib/python3.9/multiprocessing/spawn.py\", line 126, in _main\n",
      "    self = reduction.pickle.load(from_parent)\n",
      "AttributeError: Can't get attribute 'hello_from_process' on <module '__main__' (built-in)>\n"
     ]
    }
   ],
   "source": [
    "### Create multi-process python app\n",
    "import multiprocessing\n",
    "import os\n",
    "\n",
    "def hello_from_process():\n",
    "    print(f'Hello from child process {os.getpid()} !')\n",
    "\n",
    "hello_process = multiprocessing.Process(target=hello_from_process)\n",
    "hello_process.start()\n",
    "hello_process.join()\n",
    "print(f'Hello from parent process {os.getpid()}')"
   ]
  },
  {
   "cell_type": "code",
   "execution_count": null,
   "metadata": {},
   "outputs": [],
   "source": []
  }
 ],
 "metadata": {
  "kernelspec": {
   "display_name": "Python 3",
   "language": "python",
   "name": "python3"
  },
  "language_info": {
   "codemirror_mode": {
    "name": "ipython",
    "version": 3
   },
   "file_extension": ".py",
   "mimetype": "text/x-python",
   "name": "python",
   "nbconvert_exporter": "python",
   "pygments_lexer": "ipython3",
   "version": "3.9.6"
  }
 },
 "nbformat": 4,
 "nbformat_minor": 2
}
